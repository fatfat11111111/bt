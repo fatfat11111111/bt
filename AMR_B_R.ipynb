{
  "cells": [
    {
      "cell_type": "markdown",
      "metadata": {
        "id": "view-in-github",
        "colab_type": "text"
      },
      "source": [
        "<a href=\"https://colab.research.google.com/github/fatfat11111111/bt/blob/main/AMR_B_R.ipynb\" target=\"_parent\"><img src=\"https://colab.research.google.com/assets/colab-badge.svg\" alt=\"Open In Colab\"/></a>"
      ]
    },
    {
      "cell_type": "code",
      "source": [
        "a = []\n",
        "while(1):\n",
        "  a.append('1')"
      ],
      "metadata": {
        "id": "UnuhBb-wPblk"
      },
      "execution_count": null,
      "outputs": []
    },
    {
      "cell_type": "markdown",
      "metadata": {
        "id": "K5K3W5LX0s6i"
      },
      "source": [
        "# Post processing of mumax3 output data in python"
      ]
    },
    {
      "cell_type": "markdown",
      "metadata": {
        "id": "hnoBIsYw0s6l"
      },
      "source": [
        " <a id='gettingready'></a>\n",
        "## 1. Getting ready"
      ]
    },
    {
      "cell_type": "markdown",
      "metadata": {
        "id": "Gv71NUjz0s6m"
      },
      "source": [
        "If you want to run the examples in this notebook, then mumax3 must be is installed on the system that is running this notebook. Go to [mumax.github.io/download](http://mumax.github.io/download) for more information on how to **install mumax3** on your system. If you are running this notebook in a google colaboratory session, then it suffices to run the cell below to install mumax3. "
      ]
    },
    {
      "cell_type": "code",
      "execution_count": null,
      "metadata": {
        "id": "9dDyrCd90s6o"
      },
      "outputs": [],
      "source": [
        "try: # 使用 try，測試內容是否正確\n",
        "    import google.colab\n",
        "except ImportError:  # 如果 try 的內容發生錯誤，就執行 except 裡的內容\n",
        "    pass\n",
        "else: #完全沒有錯誤，就會執行該區塊的程式\n",
        "    !wget https://mumax.ugent.be/mumax3-binaries/mumax3.10_linux_cuda10.1.tar.gz #下載網路上的檔案，可執行 wget 加上檔案的網址即可立即下載\n",
        "    !tar -xvf mumax3.10_linux_cuda10.1.tar.gz #tar -xvf解包\n",
        "    !rm mumax3.10_linux_cuda10.1.tar.gz\n",
        "    !rm -rf mumax3.10 && mv mumax3.10_linux_cuda10.1 mumax3.10 #刪除檔案或目錄\n",
        "    import os #OS模塊，調用操作系統命令，來達成建立文件，刪除文件，查詢文件等\n",
        "    os.environ['PATH'] += \":/content/mumax3.10\" #執行時將程式的所有環境變數保留在類似字典的 os.environ 物件\n",
        "    from google.colab import drive #掛載雲端\n",
        "    drive.mount('/content/drive')\n",
        "    os.chdir('/content/drive/MyDrive/mumax2.0') #切換該目錄\n",
        "    os.listdir() #確認目錄內容\n"
      ]
    },
    {
      "cell_type": "markdown",
      "metadata": {
        "id": "1Si5CtCG0s6w"
      },
      "source": [
        "In the examples presented in this notebook, we will use the numpy and pandas libraries **for post processing mumax3 output data**, and matplotlib to **visualize this data**. So let's import these libraries."
      ]
    },
    {
      "cell_type": "code",
      "execution_count": null,
      "metadata": {
        "id": "rmod7y4x0s6y"
      },
      "outputs": [],
      "source": [
        "import numpy as np\n",
        "import matplotlib.pyplot as plt\n",
        "import pandas as pd"
      ]
    },
    {
      "cell_type": "markdown",
      "metadata": {
        "id": "bZIHecFr0s63"
      },
      "source": [
        " <a id='helperfunctions'></a>\n",
        "## 2. mumax3 helper functions"
      ]
    },
    {
      "cell_type": "markdown",
      "metadata": {
        "id": "gyY3fg800s64"
      },
      "source": [
        "Let's start by writing a function which **reads a mumax3 output table** and puts the date in a **Pandas dataframe**."
      ]
    },
    {
      "cell_type": "code",
      "execution_count": null,
      "metadata": {
        "id": "W7Nn_7Gl0s66"
      },
      "outputs": [],
      "source": [
        "def read_mumax3_table(filename): # 定義函式\n",
        "    \"\"\"Puts the mumax3 output table in a pandas dataframe\"\"\" # pandas dataframe可以處理雙維度或多欄位的資料\n",
        "\n",
        "    from pandas import read_table # read_table載入帶分隔符的資料\n",
        "    \n",
        "    table = read_table(filename)\n",
        "    table.columns = ' '.join(table.columns).split()[1::2]\n",
        "    \n",
        "    return table"
      ]
    },
    {
      "cell_type": "markdown",
      "metadata": {
        "id": "3HkwQV5f0s6-"
      },
      "source": [
        "Mumax3 does not only write output data in a table, it can also write field data to ovf files. The function below **converts all ovf files in the output directory to numpy files**. These files are then loaded using the numpy.load function. The result is a **python dictionary of the field data (a numpy array) with the ovf filename as key**."
      ]
    },
    {
      "cell_type": "code",
      "execution_count": null,
      "metadata": {
        "id": "apKunwIp0s6_"
      },
      "outputs": [],
      "source": [
        "def read_mumax3_ovffiles(outputdir):\n",
        "    \"\"\"Load all ovffiles in outputdir into a dictionary of numpy arrays \n",
        "    with the ovffilename (without extension) as key\"\"\"\n",
        "    \n",
        "    from subprocess import run, PIPE, STDOUT # subprocess可以在當前程序中執行其他程序或命令 https://medium.com/@alan81920/python-%E5%91%BC%E5%8F%AB%E5%85%B6%E4%BB%96%E7%A8%8B%E5%BC%8F-18a202c8b700\n",
        "    from glob import glob # 查找出匹配條件的檔案或資料夾\n",
        "    from os import path # os.path() 獲取文件屬性\n",
        "    from numpy import load # load 讀取.npy檔數據的函數，默認情况下，是以未壓缩的原始二進制格式保存\n",
        "\n",
        "    # convert all ovf files in the output directory to numpy files, npy檔用於儲存重建ndarray 所需的數據、圖形、dtype 和其他資訊\n",
        "    p = run([\"mumax3-convert\",\"-numpy\",outputdir+\"/*.ovf\"], stdout=PIPE, stderr=STDOUT)\n",
        "    if p.returncode != 0:\n",
        "        print(p.stdout.decode('UTF-8'))\n",
        "\n",
        "    # read the numpy files (the converted ovf files)\n",
        "    fields = {}\n",
        "    for npyfile in glob(outputdir+\"/*.npy\"):\n",
        "        key = path.splitext(path.basename(npyfile))[0] #os.path.splitext(“檔案路徑”)分離檔名與副檔名\n",
        "        fields[key] = load(npyfile)\n",
        "    \n",
        "    return fields"
      ]
    },
    {
      "cell_type": "markdown",
      "metadata": {
        "id": "HFgCSbwf0s7E"
      },
      "source": [
        "The function below **executes a mumax3 script** and r**eturns the data of the output table in a pandas dataframe**, and the **saved fields as numpy arrays**.\n",
        "*Usage of mumax3-convert:\n",
        "-arrows int\n",
        "Arrow size for vector bitmap image output\n",
        "-color string\n",
        "Colormap for scalar image output. (default \"black,gray,white\")\n",
        "-comp string\n",
        "Select a component of vector data. (0,1,2 or x,y,z)\n",
        "-csv\n",
        "output in CSV format\n",
        "-dump\n",
        "output in dump format\n",
        "-f string\n",
        "Printf format string (default \"%v\")\n",
        "-gif\n",
        "GIF output\n",
        "-gplot\n",
        "Gnuplot-compatible output\n",
        "-jpg\n",
        "JPEG output\n",
        "-json\n",
        "output in JSON format\n",
        "-max string\n",
        "Maximum of color scale: \"auto\" or value. (default \"auto\")\n",
        "-min string\n",
        "Minimum of color scale: \"auto\" or value. (default \"auto\")\n",
        "-normalize\n",
        "Normalize vector data to unit length\n",
        "-normpeak\n",
        "Scale vector data, maximum to unit length\n",
        "-numpy\n",
        "Numpy output\n",
        "-o string\n",
        "Save all output in this directory\n",
        "-omf string\n",
        "\"text\" or \"binary\" OVF1 output\n",
        "-ovf string\n",
        "\"text\" or \"binary\" OVF1 output\n",
        "-ovf2 string\n",
        "\"text\" or \"binary\" OVF2 output\n",
        "-png\n",
        "PNG output\n",
        "-resize string\n",
        "Resize. E.g.: 128x128x4\n",
        "-show\n",
        "Human-readible output to stdout\n",
        "-svg\n",
        "SVG output\n",
        "-svgz\n",
        "SVGZ output (compressed)\n",
        "-vtk string\n",
        "\"ascii\" or \"binary\" VTK output\n",
        "-xrange string\n",
        "Crop x range min:max (both optional, max=exclusive)\n",
        "-yrange string\n",
        "Crop y range min:max (both optional, max=exclusive)\n",
        "-zrange string\n",
        "Crop z range min:max (both optional, max=exclusive)*"
      ]
    },
    {
      "cell_type": "code",
      "execution_count": null,
      "metadata": {
        "id": "wKe6laCH0s7F"
      },
      "outputs": [],
      "source": [
        "def run_mumax3(script, name, verbose=False):\n",
        "    \"\"\" Executes a mumax3 script and convert ovf files to numpy files\n",
        "    \n",
        "    Parameters\n",
        "    ----------\n",
        "      script:  string containing the mumax3 input script\n",
        "      name:    name of the simulation (this will be the name of the script and output dir)\n",
        "      verbose: print stdout of mumax3 when it is finished\n",
        "    \"\"\"\n",
        "    \n",
        "    from subprocess import run, PIPE, STDOUT\n",
        "    from os import path\n",
        "\n",
        "    scriptfile = name + \".txt\" \n",
        "    outputdir  = name + \".out\"\n",
        "\n",
        "    # write the input script in scriptfile\n",
        "    with open(scriptfile, 'w' ) as f: # with open讀寫檔案 'w'打開一個檔案，只用於寫入，如果檔案已存在則將其覆蓋；反之創建新檔案\n",
        "        f.write(script)\n",
        "    \n",
        "    # call mumax3 to execute this script\n",
        "    p = run([\"mumax3\",\"-f\",scriptfile], stdout=PIPE, stderr=STDOUT)\n",
        "    if verbose or p.returncode != 0:\n",
        "        print(p.stdout.decode('UTF-8'))\n",
        "        \n",
        "    if path.exists(outputdir + \"/table.txt\"): # 查看特定的路徑是否存在，不分檔案或目錄\n",
        "        table = read_mumax3_table(outputdir + \"/table.txt\")\n",
        "    else:\n",
        "        table = None\n",
        "        \n",
        "    fields = read_mumax3_ovffiles(outputdir)\n",
        "    \n",
        "    return table, fields"
      ]
    },
    {
      "cell_type": "markdown",
      "metadata": {
        "id": "ROnFX0SbjMql"
      },
      "source": [
        "Let's start by **putting the mumax3 input scrip**t in the string variable `script`.\n",
        "(二維，一個磁場下)"
      ]
    },
    {
      "cell_type": "code",
      "execution_count": null,
      "metadata": {
        "id": "hBLIyc0GhnQf"
      },
      "outputs": [],
      "source": [
        "script=\"\"\"\n",
        "sizeX := 256e-8 // length = 2560 nm\n",
        "sizeY := 256e-8  // width = 25602 nm\n",
        "sizeZ := 30e-9 // thickness  = 30 nm\n",
        "Nx := 256\n",
        "Ny := 256\n",
        "Nz := 1\n",
        "setgridsize(Nx, Ny, Nz)\n",
        "setcellsize(sizeX/Nx, sizeY/Ny, sizeZ/Nz)\n",
        "setGeom(rect(sizeX, sizeY))\n",
        "\n",
        "//defregion(1,rect(sizeX, sizeY))\n",
        "//Kc1.SetRegion(0, -4.5e+100 ) \n",
        "//AnisC1.SetRegion(0, vector(0,1,0) )\n",
        "//AnisC1.SetRegion(1, vector(0, 1, 0)) \n",
        "//Kc1.SetRegion(1, Kkc1)\n",
        "Kc1 = 500 // 1st order cubic anisotropy constant (J/m3)\n",
        "AnisC1 = vector(0,1,0) // Cubic anisotropy direction #1\n",
        "//AnisU = vector(0, 1, 0)\n",
        "//Ku1 = 500 \n",
        "//\n",
        "Msat = 47e+4 // Saturation magnetization (A/m)\n",
        "Aex = 92e-13 // Exchange stiffness (J/m)\n",
        "alpha = 0.02\n",
        "m = randomMag() \n",
        "\n",
        "TableAdd(B_ext)\n",
        "B := 6.5e-2  // 650 Oe\n",
        "B_ext = vector(B, 0, 0)\n",
        "\n",
        "autosave(m, 100e-12)\n",
        "tableautosave(10e-12)\n",
        "\n",
        "\n",
        "\n",
        "\n",
        "run(10.0e-12)\n",
        "\"\"\""
      ]
    },
    {
      "cell_type": "markdown",
      "metadata": {
        "id": "hCWtYmCe0s7P"
      },
      "source": [
        "Now we can **execute this mumax3** script using the `run_mumax3` helper function. This function returns **the output table in a pandas dataframe and a dictionary of the saved fields**. If `verbose=True`, then the log output of mumax3 will be printed out when mumax3 finishes. Note that on the left side of the cell, you can check if the simulation is finished or still running."
      ]
    },
    {
      "cell_type": "code",
      "execution_count": null,
      "metadata": {
        "id": "Hcv86Mr90s7Q"
      },
      "outputs": [],
      "source": [
        "table, fields = run_mumax3( script, name=\"project3.2\", verbose=False )"
      ]
    },
    {
      "cell_type": "markdown",
      "metadata": {
        "id": "FKEfolRG0s7U"
      },
      "source": [
        "The table data is put in a pandas dataframe. This makes it very easy to **plot and analyze the table data**."
      ]
    },
    {
      "cell_type": "markdown",
      "metadata": {
        "id": "zExRLC9H4ImJ"
      },
      "source": [
        "post processing using python"
      ]
    },
    {
      "cell_type": "code",
      "execution_count": null,
      "metadata": {
        "id": "NnUVKmqh6Ifr"
      },
      "outputs": [],
      "source": [
        "from numpy.core.fromnumeric import shape # shape 讀取矩陣的長度\n",
        "for i in fields.keys():\n",
        "  m= fields[i]\n",
        "  \n",
        "  mx = m[0,:,:,:]\n",
        "  my = m[1,:,:,:] \n",
        "  mz = m[2,:,:,:]\n",
        "  Nx = int(input(\"Nx=\"))\n",
        "  Ny = int(input(\"Ny=\"))\n",
        "  # m_component= np.array([[mx], [my], [mz]])\n",
        "  cos_1 = mx #cos= m·j/|m||j|, let j= ( 0, 1, 0)\n",
        "  cos_1 = cos_1.flatten() #Return a copy of the array collapsed into one dimension.\n",
        "  cos_1 = np.reshape(cos_1, (Nx, Ny)) #Reshape array into two dimension \n",
        "  cos_2 = my\n",
        "  cos_2 = cos_2.flatten()\n",
        "  cos_2 = np.reshape(cos_2, (Nx, Ny))\n",
        "  # print(\"cos_1=\",cos_1)\n",
        "  cossquare1 = np.power(cos_1, 2)\n",
        "  cossquare2 = np.power(cos_2, 2)\n",
        "  # print(cossquare1)\n",
        "  AMRratio = 0.025 #AMRratio= (lo_xx-lo_xy)/lo_xy\n",
        "  lo_xx = 6.99*(10**(-8))\n",
        "  lo_xy = lo_xx/(AMRratio+1)\n",
        "\n",
        "  Rx= lo_xy*(1+AMRratio*cossquare1)\n",
        "  Ry= lo_xy*(1+AMRratio*cossquare2) #coductivity of each cell in a field\n",
        "  # print(\"Rx=\",Rx)\n",
        "  # print(\"Ry=\",Ry)\n",
        "  R = Ry-(np.abs(Ry**2-Ry*Rx)**(1/2))\n",
        "  r = Ry+(np.abs(Ry**2-Ry*Rx)**(1/2))\n",
        "  # print(\"R=\",R)\n",
        "  # print(\"r=\",r)\n",
        "\n",
        "\n",
        "  \n",
        "  a = 2*Nx*Ny+Nx+Ny\n",
        "  k = 0\n",
        "\n",
        "  matrix = np.array([[0 for j in range(a)]for k in range(a)], dtype = 'float')\n",
        "  for j in range(0, Nx): # 頭幾個\n",
        "    matrix[j][j+Nx] = r[j][0]\n",
        "    matrix[j][j+Nx+1] = r[j][0] \n",
        "  for j in range(a-Nx, a): # 尾幾個\n",
        "    for q in range(Nx):\n",
        "      matrix[j][j-Nx] = R[q][Ny-1]\n",
        "      matrix[j][j-(Nx+1)] = R[q][Ny-1] \n",
        "  for j in range(Nx, a-2*Nx, 2*Nx+1): # 左側\n",
        "    for p in range(Ny):\n",
        "      matrix[j][j-Nx] = r[0][p]\n",
        "      matrix[j][j+(Nx+1)] = R[0][p]  \n",
        "  for j in range(2*Nx, a-Nx, 2*Nx+1): # 右側\n",
        "    for p in range(Ny):\n",
        "      matrix[j][j-(Nx+1)] = r[Nx-1][p]\n",
        "      matrix[j][j+Nx] = r[Nx-1][p]\n",
        "  for j in range(a):\n",
        "    for q in range(Nx):\n",
        "      for p in range(Ny):\n",
        "        if ((j not in range(0, Nx)) and (j not in range(a-Nx, a)) and (j not in range(Nx, a-2*Nx, 2*Nx+1)) and (j not in range(2*Nx, a-Nx, 2*Nx+1))):\n",
        "          matrix[j][j+Nx] = R[q][p]\n",
        "          matrix[j][j+(Nx+1)] = R[q][p]\n",
        "          matrix[j][j-Nx] = r[q][p]\n",
        "          matrix[j][j-(Nx+1)] = r[q][p]\n",
        "print(repr(matrix))"
      ]
    }
  ],
  "metadata": {
    "@webio": {
      "lastCommId": null,
      "lastKernelId": null
    },
    "colab": {
      "collapsed_sections": [],
      "name": "AMR B-R",
      "provenance": [],
      "toc_visible": true,
      "include_colab_link": true
    },
    "kernelspec": {
      "display_name": "Python 3",
      "language": "python",
      "name": "python3"
    },
    "language_info": {
      "codemirror_mode": {
        "name": "ipython",
        "version": 3
      },
      "file_extension": ".py",
      "mimetype": "text/x-python",
      "name": "python",
      "nbconvert_exporter": "python",
      "pygments_lexer": "ipython3",
      "version": "3.8.3"
    },
    "accelerator": "GPU"
  },
  "nbformat": 4,
  "nbformat_minor": 0
}